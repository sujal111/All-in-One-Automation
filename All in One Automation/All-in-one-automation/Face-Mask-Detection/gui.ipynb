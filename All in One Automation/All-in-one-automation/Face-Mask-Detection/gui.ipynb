{
 "cells": [
  {
   "cell_type": "code",
   "execution_count": 2,
   "metadata": {},
   "outputs": [],
   "source": []
  },
  {
   "cell_type": "code",
   "execution_count": 37,
   "metadata": {},
   "outputs": [],
   "source": [
    "window = tk.Tk()\n",
    "\n",
    "window.title(\"Face Mask Detection\")\n",
    "\n",
    "#window.configure(background='white')\n",
    "window.geometry('1800x1200')\n",
    "\n",
    "image = Image.open(\"bg.jpg\")\n",
    "image=image.resize((1600,1000), Image.ANTIALIAS)\n",
    "photo = ImageTk.PhotoImage(image)\n",
    "l2=tk.Label(image=photo)\n",
    "l2.pack(ipadx=\"10\",fill=BOTH)\n",
    "\n",
    "window.grid_rowconfigure(0, weight=1)\n",
    "window.grid_columnconfigure(0, weight=1)\n",
    "\n",
    "\n",
    "message = tk.Label(window, text=\"Restart India Project\" ,bg=\"white\"  ,fg=\"black\"  ,width=20  ,height=2,font=('Times New Roman', 25, 'bold')) \n",
    "message.place(x=380, y=76)\n",
    "\n",
    "message = tk.Label(window, text=\"FACE MASK DETECTION\" ,bg=\"white\"  ,fg=\"black\"  ,width=21  ,height=1,font=('Times New Roman', 35, 'bold underline')) \n",
    "message.place(x=300, y=20)\n",
    "\n",
    "message = tk.Label(window, text=\"Choose from the below options to start detecting masks.\" ,bg=\"white\"  ,fg=\"black\"  ,width=40  ,height=2,font=('Times New Roman', 18, 'bold')) \n",
    "message.place(x=310, y=176)\n",
    "\n",
    "webcam = tk.Button(window, text=\"Using RTSP\", command=RTSP  ,fg=\"black\"  ,bg=\"white\"  ,width=13  ,height=2, activebackground = \"white\" ,font=('Times New Roman', 15, ' bold '))\n",
    "webcam.place(x=410, y=305)\n",
    "rtsp = tk.Button(window, text=\"Using WebCam\", command=WebCam  ,fg=\"black\"  ,bg=\"white\"  ,width=13  ,height=2, activebackground = \"white\" ,font=('Times New Roman', 15, ' bold '))\n",
    "rtsp.place(x=620, y=305)\n",
    "\n",
    "\n",
    "\n",
    "window.mainloop()"
   ]
  },
  {
   "cell_type": "code",
   "execution_count": 18,
   "metadata": {},
   "outputs": [],
   "source": [
    "def RTSP():\n",
    "    pass\n",
    "def WebCam():\n",
    "    pass"
   ]
  },
  {
   "cell_type": "code",
   "execution_count": null,
   "metadata": {},
   "outputs": [],
   "source": []
  }
 ],
 "metadata": {
  "kernelspec": {
   "display_name": "Python 3",
   "language": "python",
   "name": "python3"
  },
  "language_info": {
   "codemirror_mode": {
    "name": "ipython",
    "version": 3
   },
   "file_extension": ".py",
   "mimetype": "text/x-python",
   "name": "python",
   "nbconvert_exporter": "python",
   "pygments_lexer": "ipython3",
   "version": "3.7.3"
  }
 },
 "nbformat": 4,
 "nbformat_minor": 4
}
