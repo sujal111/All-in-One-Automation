{
 "cells": [
  {
   "cell_type": "code",
   "execution_count": 1,
   "metadata": {},
   "outputs": [],
   "source": [
    "import tensorflow as tf\n",
    "import numpy as np\n",
    "import cv2\n",
    "from tensorflow.keras.models import load_model"
   ]
  },
  {
   "cell_type": "code",
   "execution_count": 2,
   "metadata": {},
   "outputs": [
    {
     "name": "stderr",
     "output_type": "stream",
     "text": [
      "Using TensorFlow backend.\n"
     ]
    }
   ],
   "source": [
    "import keras\n",
    "import tkinter as tk\n",
    "from tkinter import *\n",
    "from PIL import Image, ImageTk"
   ]
  },
  {
   "cell_type": "code",
   "execution_count": 3,
   "metadata": {},
   "outputs": [],
   "source": [
    "model = load_model('my_model2')"
   ]
  },
  {
   "cell_type": "code",
   "execution_count": 4,
   "metadata": {},
   "outputs": [],
   "source": [
    "face_clsfr=cv2.CascadeClassifier('Data/haarcascade_frontalface_default.xml')\n",
    "labels_dict={0:'MASK',1:'NO MASK'}\n",
    "color_dict={0:(0,255,0),1:(0,0,255)}"
   ]
  },
  {
   "cell_type": "code",
   "execution_count": 5,
   "metadata": {},
   "outputs": [],
   "source": [
    "def RTSP():\n",
    "    vid = cv2.VideoCapture(\"rtsp://192.168.43.1:8080/video/h264\")\n",
    "    frame_width = int(vid.get(3))\n",
    "    frame_height = int(vid.get(4))\n",
    "\n",
    "    out = cv2.VideoWriter('output.mp4',cv2.VideoWriter_fourcc('M','P','4','V'), 25, (frame_width,frame_height))\n",
    "\n",
    "    while(True):\n",
    "        ret, img = vid.read()\n",
    "        faces=face_clsfr.detectMultiScale(img,1.3,10)\n",
    "\n",
    "        if ret == True: \n",
    "            for (x,y,w,h) in faces:\n",
    "                face_img=img[y:y+w,x:x+w]\n",
    "                resized=cv2.resize(face_img,(150,150))\n",
    "                normalized=resized/255.0\n",
    "                reshaped=np.reshape(normalized,(1,150,150,3))\n",
    "                result=model.predict(reshaped)\n",
    "                label=np.argmax(result)\n",
    "                cv2.rectangle(img,(x,y),(x+w,y+h),color_dict[label],2)\n",
    "                cv2.rectangle(img,(x,y-40),(x+w,y),color_dict[label],-1)\n",
    "                cv2.putText(img, labels_dict[label],\n",
    "                            (x, y-10),cv2.FONT_HERSHEY_SIMPLEX,0.8,(255,255,255),2)\n",
    "\n",
    "            out.write(img)\n",
    "\n",
    "            cv2.imshow('frame',img)\n",
    "\n",
    "            if cv2.waitKey(1) & 0xFF == ord('q'):\n",
    "                break\n",
    "        else:\n",
    "            break  \n",
    "\n",
    "    vid.release()\n",
    "    out.release()\n",
    "\n",
    "    cv2.destroyAllWindows() \n",
    "    "
   ]
  },
  {
   "cell_type": "code",
   "execution_count": 11,
   "metadata": {},
   "outputs": [],
   "source": [
    "#vid = cv2.VideoCapture(\"rtsp://192.168.43.1:8080/video/h264\")\n",
    "\n",
    "\n",
    "def WebCam():\n",
    "    vid = cv2.VideoCapture(0)\n",
    "    frame_width = int(vid.get(3))\n",
    "    frame_height = int(vid.get(4))\n",
    "\n",
    "    out = cv2.VideoWriter('output.mp4',cv2.VideoWriter_fourcc('M','P','4','V'), 25, (frame_width,frame_height))\n",
    "\n",
    "    while(True):\n",
    "        ret, img = vid.read()\n",
    "        faces=face_clsfr.detectMultiScale(img,1.3,10)\n",
    "\n",
    "        if ret == True: \n",
    "            for (x,y,w,h) in faces:\n",
    "                face_img=img[y:y+w,x:x+w]\n",
    "                resized=cv2.resize(face_img,(150,150))\n",
    "                normalized=resized/255.0\n",
    "                reshaped=np.reshape(normalized,(1,150,150,3))\n",
    "                result=model.predict(reshaped)\n",
    "                label=np.argmax(result)\n",
    "                cv2.rectangle(img,(x,y),(x+w,y+h),color_dict[label],2)\n",
    "                cv2.rectangle(img,(x,y-40),(x+w,y),color_dict[label],-1)\n",
    "                cv2.putText(img, labels_dict[label],\n",
    "                            (x, y-10),cv2.FONT_HERSHEY_SIMPLEX,0.8,(255,255,255),2)\n",
    "\n",
    "            out.write(img)\n",
    "\n",
    "            cv2.imshow('frame',img)\n",
    "\n",
    "            if cv2.waitKey(1) & 0xFF == ord('q'):\n",
    "                break\n",
    "        else:\n",
    "            break  \n",
    "\n",
    "    vid.release()\n",
    "    out.release()\n",
    "\n",
    "    cv2.destroyAllWindows() "
   ]
  },
  {
   "cell_type": "code",
   "execution_count": 16,
   "metadata": {},
   "outputs": [],
   "source": [
    "window = tk.Tk()\n",
    "\n",
    "window.title(\"Face Mask Detection\")\n",
    "\n",
    "#window.configure(background='white')\n",
    "window.geometry('1800x1200')\n",
    "\n",
    "image = Image.open(\"bg.jpg\")\n",
    "image=image.resize((1600,1000), Image.ANTIALIAS)\n",
    "photo = ImageTk.PhotoImage(image)\n",
    "l2=tk.Label(image=photo)\n",
    "l2.pack(ipadx=\"10\",fill=BOTH)\n",
    "\n",
    "window.grid_rowconfigure(0, weight=1)\n",
    "window.grid_columnconfigure(0, weight=1)\n",
    "\n",
    "\n",
    "message = tk.Label(window, text=\"Restart India Project\" ,bg=\"white\"  ,fg=\"black\"  ,width=20  ,height=2,font=('Times New Roman', 25, 'bold')) \n",
    "message.place(x=380, y=76)\n",
    "\n",
    "message = tk.Label(window, text=\"FACE MASK DETECTION\" ,bg=\"white\"  ,fg=\"black\"  ,width=21  ,height=1,font=('Times New Roman', 35, 'bold underline')) \n",
    "message.place(x=300, y=20)\n",
    "\n",
    "message = tk.Label(window, text=\"Choose from the below options to start detecting masks.\" ,bg=\"white\"  ,fg=\"black\"  ,width=40  ,height=2,font=('Times New Roman', 18, 'bold')) \n",
    "message.place(x=300, y=200)\n",
    "\n",
    "webcam = tk.Button(window, text=\"Using RTSP\", command=RTSP  ,fg=\"black\"  ,bg=\"white\"  ,width=13  ,height=2, activebackground = \"white\" ,font=('Times New Roman', 15, ' bold '))\n",
    "webcam.place(x=410, y=305)\n",
    "rtsp = tk.Button(window, text=\"Using WebCam\", command=WebCam  ,fg=\"black\"  ,bg=\"white\"  ,width=13  ,height=2, activebackground = \"white\" ,font=('Times New Roman', 15, ' bold '))\n",
    "rtsp.place(x=620, y=305)\n",
    "\n",
    "\n",
    "\n",
    "window.mainloop()"
   ]
  },
  {
   "cell_type": "code",
   "execution_count": null,
   "metadata": {},
   "outputs": [],
   "source": [
    "cv2.FON"
   ]
  },
  {
   "cell_type": "code",
   "execution_count": null,
   "metadata": {},
   "outputs": [],
   "source": []
  }
 ],
 "metadata": {
  "kernelspec": {
   "display_name": "Python 3",
   "language": "python",
   "name": "python3"
  },
  "language_info": {
   "codemirror_mode": {
    "name": "ipython",
    "version": 3
   },
   "file_extension": ".py",
   "mimetype": "text/x-python",
   "name": "python",
   "nbconvert_exporter": "python",
   "pygments_lexer": "ipython3",
   "version": "3.7.3"
  }
 },
 "nbformat": 4,
 "nbformat_minor": 4
}