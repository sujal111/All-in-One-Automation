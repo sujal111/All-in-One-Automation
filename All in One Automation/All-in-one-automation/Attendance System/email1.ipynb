{
 "cells": [
  {
   "cell_type": "code",
   "execution_count": 1,
   "metadata": {},
   "outputs": [],
   "source": [
    "import smtplib\n",
    "\n",
    "from string import Template\n",
    "\n",
    "from email.mime.multipart import MIMEMultipart\n",
    "from email.mime.text import MIMEText\n",
    "\n",
    "MY_ADDRESS = 'myforum0007@gmail.com'\n",
    "PASSWORD = 'M@mayank9404'\n",
    "\n",
    "\n",
    "\n",
    "def read_template(filename):\n",
    "    \"\"\"\n",
    "    Returns a Template object comprising the contents of the \n",
    "    file specified by filename.\n",
    "    \"\"\"\n",
    "    \n",
    "    with open(filename, 'r', encoding='utf-8') as template_file:\n",
    "        template_file_content = template_file.read()\n",
    "    return Template(template_file_content)\n",
    "\n",
    "def mailing(ID,name,email):\n",
    "    \n",
    "    message_template = read_template('message.txt')\n",
    "\n",
    "    # set up the SMTP server\n",
    "    s = smtplib.SMTP('smtp.gmail.com',587)\n",
    "    s.starttls()\n",
    "    s.login(MY_ADDRESS, PASSWORD)\n",
    "\n",
    "    msg = MIMEMultipart()       # create a message\n",
    "\n",
    "    # add in the actual person name to the message template\n",
    "    message = message_template.substitute(PERSON_NAME=name.title(), ID=ID)\n",
    "\n",
    "    # Prints out the message body for our sake\n",
    "    print(message)\n",
    "\n",
    "    # setup the parameters of the message\n",
    "    msg['From']=MY_ADDRESS\n",
    "    msg['To']=email\n",
    "    msg['Subject']=\"Attendance Updated\"\n",
    "        \n",
    "    # add in the message body\n",
    "    msg.attach(MIMEText(message, 'plain'))\n",
    "        \n",
    "    # send the message via the server set up earlier.\n",
    "    s.send_message(msg)\n",
    "    del msg\n",
    "        \n",
    "    # Terminate the SMTP session and close the connection\n",
    "    s.quit()\n",
    "    "
   ]
  },
  {
   "cell_type": "code",
   "execution_count": null,
   "metadata": {},
   "outputs": [],
   "source": []
  },
  {
   "cell_type": "code",
   "execution_count": null,
   "metadata": {},
   "outputs": [],
   "source": []
  }
 ],
 "metadata": {
  "kernelspec": {
   "display_name": "Python 3",
   "language": "python",
   "name": "python3"
  },
  "language_info": {
   "codemirror_mode": {
    "name": "ipython",
    "version": 3
   },
   "file_extension": ".py",
   "mimetype": "text/x-python",
   "name": "python",
   "nbconvert_exporter": "python",
   "pygments_lexer": "ipython3",
   "version": "3.7.3"
  }
 },
 "nbformat": 4,
 "nbformat_minor": 4
}
